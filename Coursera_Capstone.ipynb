{
  "nbformat": 4,
  "nbformat_minor": 0,
  "metadata": {
    "colab": {
      "name": "Coursera_Capstone",
      "provenance": [],
      "collapsed_sections": [],
      "authorship_tag": "ABX9TyOLW3r27ekXhVKk3/wnPhgT",
      "include_colab_link": true
    },
    "kernelspec": {
      "name": "python3",
      "display_name": "Python 3"
    }
  },
  "cells": [
    {
      "cell_type": "markdown",
      "metadata": {
        "id": "view-in-github",
        "colab_type": "text"
      },
      "source": [
        "<a href=\"https://colab.research.google.com/github/simonesingh/Coursera_Capstone/blob/master/Coursera_Capstone.ipynb\" target=\"_parent\"><img src=\"https://colab.research.google.com/assets/colab-badge.svg\" alt=\"Open In Colab\"/></a>"
      ]
    },
    {
      "cell_type": "markdown",
      "metadata": {
        "id": "CHMlYKC_j0qn",
        "colab_type": "text"
      },
      "source": [
        "#Coursera_Capstone Project Notebook"
      ]
    },
    {
      "cell_type": "markdown",
      "metadata": {
        "id": "lrRHmnrGkDGy",
        "colab_type": "text"
      },
      "source": [
        "####This notebook will be used for the applied data science, capstonning notebook. We will upload this on github!"
      ]
    },
    {
      "cell_type": "code",
      "metadata": {
        "id": "UGm4RIhSkXeJ",
        "colab_type": "code",
        "colab": {}
      },
      "source": [
        "import pandas as pd\n",
        "import numpy as np "
      ],
      "execution_count": 1,
      "outputs": []
    },
    {
      "cell_type": "code",
      "metadata": {
        "id": "kCrMRVmwkgB3",
        "colab_type": "code",
        "colab": {
          "base_uri": "https://localhost:8080/",
          "height": 34
        },
        "outputId": "9f2dfcfd-f2b6-4c50-9ea4-308650838116"
      },
      "source": [
        "print('Hello Capstone Project Course')"
      ],
      "execution_count": 2,
      "outputs": [
        {
          "output_type": "stream",
          "text": [
            "Hello Capstone Project Course\n"
          ],
          "name": "stdout"
        }
      ]
    }
  ]
}